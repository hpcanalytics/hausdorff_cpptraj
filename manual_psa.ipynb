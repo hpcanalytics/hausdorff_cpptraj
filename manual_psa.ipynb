{
 "cells": [
  {
   "cell_type": "markdown",
   "metadata": {},
   "source": [
    "# Hausdorff distance for cpptraj "
   ]
  },
  {
   "cell_type": "markdown",
   "metadata": {},
   "source": [
    "We use the *Hausdorff metric* (see [1]) with the RMSD between protein structures as a measure of distance between trajectories $P$ and $Q$:\n",
    "\n",
    "\\begin{gather}\n",
    "H(P, Q) := \\max[ h(P, Q), h(Q, P) ] \\\\\n",
    "h(P, Q) := \\max_{p \\in P} \\min_{q \\in Q} \\text{RMSD}(p, q)\n",
    "\\end{gather}\n",
    "\n",
    "The brute-force calculation can be formulated in terms of a 2D RMSD distance matrix $\\mathsf{d} = (d_{ij}),\\ 1 \\leq i \\leq N_P,\\ 1 \\leq j \\leq N_Q$ (frame $i$ in $P$ vs frame $j$ in $Q$):\n",
    "\n",
    "\\begin{gather}\n",
    "H(\\mathsf{d}) = \\max[ h_{PQ}(\\mathsf{d}), h_{QP}(\\mathsf{d}) ] \\\\\n",
    "h_{PQ}(\\mathsf{d}) = \\max_{1 \\leq i \\leq N_P} \\min_{1 \\leq j \\leq N_Q} d_{ij}\\\\\n",
    "h_{QP}(\\mathsf{d}) = \\max_{1 \\leq j \\leq N_Q} \\min_{1 \\leq i \\leq N_P} d_{ij}\n",
    "\\end{gather}\n",
    "\n",
    "There is a generally faster early-break algorithm for $h$ [2], implemented as [scipy.spatial.distance.directed_hausdorff()](https://docs.scipy.org/doc/scipy/reference/generated/scipy.spatial.distance.directed_hausdorff.html).\n",
    "\n",
    "1. D. P. Huttenlocher, G. A. Klanderman, and W. J. Rucklidge. Comparing images using the Hausdorff distance. IEEE Transactions on Pattern Analysis and Machine Intelligence, 15(9):850–863, 1993.\n",
    "2. A. A. Taha and A. Hanbury. An efficient algorithm for calculating the exact Hausdorff distance. IEEE Trans Pattern Anal Mach Intell, 37(11):2153–63, Nov 2015."
   ]
  },
  {
   "cell_type": "markdown",
   "metadata": {},
   "source": [
    "## Method implementations "
   ]
  },
  {
   "cell_type": "code",
   "execution_count": 25,
   "metadata": {},
   "outputs": [],
   "source": [
    "import numpy as np"
   ]
  },
  {
   "cell_type": "code",
   "execution_count": 3,
   "metadata": {},
   "outputs": [
    {
     "name": "stdout",
     "output_type": "stream",
     "text": [
      "rmsd2.1-1.dat  rmsd2.1-2.dat\r\n"
     ]
    }
   ],
   "source": [
    "%ls *.dat"
   ]
  },
  {
   "cell_type": "code",
   "execution_count": 26,
   "metadata": {},
   "outputs": [],
   "source": [
    "def load_2drmsd(filename):\n",
    "    d = np.loadtxt(filename)\n",
    "    d = d[:, 1:]  # strip first column (frame number)\n",
    "    return d\n",
    "\n",
    "def Hausdorff_simple(d):\n",
    "    hPQ = np.max(np.min(d, axis=1))\n",
    "    hQP = np.max(np.min(d, axis=0))\n",
    "    return np.max([hPQ, hQP])"
   ]
  },
  {
   "cell_type": "markdown",
   "metadata": {},
   "source": [
    "## Results "
   ]
  },
  {
   "cell_type": "markdown",
   "metadata": {},
   "source": [
    "Data files:"
   ]
  },
  {
   "cell_type": "code",
   "execution_count": 28,
   "metadata": {},
   "outputs": [
    {
     "data": {
      "text/plain": [
       "0.0"
      ]
     },
     "execution_count": 28,
     "metadata": {},
     "output_type": "execute_result"
    }
   ],
   "source": [
    "d = load_2drmsd(\"rmsd2.1-1.dat\")\n",
    "Hausdorff_simple(d)"
   ]
  },
  {
   "cell_type": "markdown",
   "metadata": {},
   "source": [
    "The data file contains the 2D RMSD for the same trajectory because the Hausdorff distance is zero."
   ]
  },
  {
   "cell_type": "markdown",
   "metadata": {},
   "source": [
    "The second data file shows that the two trajectories are different:"
   ]
  },
  {
   "cell_type": "code",
   "execution_count": 27,
   "metadata": {},
   "outputs": [
    {
     "data": {
      "text/plain": [
       "1.872"
      ]
     },
     "execution_count": 27,
     "metadata": {},
     "output_type": "execute_result"
    }
   ],
   "source": [
    "d = load_2drmsd(\"rmsd2.1-2.dat\")\n",
    "Hausdorff_simple(d)"
   ]
  },
  {
   "cell_type": "code",
   "execution_count": null,
   "metadata": {},
   "outputs": [],
   "source": []
  }
 ],
 "metadata": {
  "kernelspec": {
   "display_name": "Python 3",
   "language": "python",
   "name": "python3"
  },
  "language_info": {
   "codemirror_mode": {
    "name": "ipython",
    "version": 3
   },
   "file_extension": ".py",
   "mimetype": "text/x-python",
   "name": "python",
   "nbconvert_exporter": "python",
   "pygments_lexer": "ipython3",
   "version": "3.6.4"
  }
 },
 "nbformat": 4,
 "nbformat_minor": 2
}
